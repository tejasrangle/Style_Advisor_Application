{
  "cells": [
    {
      "cell_type": "markdown",
      "metadata": {
        "id": "2w7YvQELbEVF"
      },
      "source": [
        "## **Getting Dataset**"
      ]
    },
    {
      "cell_type": "code",
      "execution_count": 1,
      "metadata": {
        "id": "i1LPE8dicnGL"
      },
      "outputs": [],
      "source": [
        "# Connecting with kaggle\n",
        "!mkdir -p ~/.kaggle\n",
        "!cp kaggle.json ~/.kaggle/"
      ]
    },
    {
      "cell_type": "code",
      "execution_count": 2,
      "metadata": {
        "colab": {
          "base_uri": "https://localhost:8080/"
        },
        "id": "QvjEooktdGG1",
        "outputId": "872b7f39-78f4-4320-8736-a2cfe51140e7"
      },
      "outputs": [
        {
          "output_type": "stream",
          "name": "stdout",
          "text": [
            "Warning: Your Kaggle API key is readable by other users on this system! To fix this, you can run 'chmod 600 /root/.kaggle/kaggle.json'\n",
            "Downloading fashion-product-images-small.zip to /content\n",
            " 96% 543M/565M [00:03<00:00, 246MB/s]\n",
            "100% 565M/565M [00:03<00:00, 182MB/s]\n"
          ]
        }
      ],
      "source": [
        "#Downloading dataset\n",
        "!kaggle datasets download -d paramaggarwal/fashion-product-images-small"
      ]
    },
    {
      "cell_type": "code",
      "execution_count": 3,
      "metadata": {
        "id": "Bh6ISUEzdK_a"
      },
      "outputs": [],
      "source": [
        "# Unzipping\n",
        "import zipfile\n",
        "zip_ref = zipfile.ZipFile('/content/fashion-product-images-small.zip','r')\n",
        "zip_ref.extractall('/content')\n",
        "zip_ref.close()"
      ]
    },
    {
      "cell_type": "code",
      "execution_count": 4,
      "metadata": {
        "id": "2ucbjdP-4Pgb"
      },
      "outputs": [],
      "source": [
        "# Importing Libraries\n",
        "import tensorflow\n",
        "from tensorflow import keras\n",
        "from keras import Sequential\n",
        "from keras.layers import GlobalMaxPooling2D\n",
        "from keras.applications import ResNet50\n",
        "from tensorflow.keras.applications.resnet50 import preprocess_input\n",
        "from tensorflow.keras.preprocessing import image\n",
        "import numpy as np\n",
        "from numpy.linalg import norm\n",
        "import os\n",
        "from tqdm import tqdm\n",
        "import cv2\n",
        "import matplotlib.pyplot as plt\n",
        "import pickle"
      ]
    },
    {
      "cell_type": "markdown",
      "metadata": {
        "id": "p7P6wsTmb1Z6"
      },
      "source": [
        "## **ResNet50 Model Creation**"
      ]
    },
    {
      "cell_type": "code",
      "execution_count": 5,
      "metadata": {
        "colab": {
          "base_uri": "https://localhost:8080/"
        },
        "id": "ncPdYFjaePES",
        "outputId": "ddd71c38-508f-478e-b2fa-a43bf0010a87"
      },
      "outputs": [
        {
          "output_type": "stream",
          "name": "stdout",
          "text": [
            "Downloading data from https://storage.googleapis.com/tensorflow/keras-applications/resnet/resnet50_weights_tf_dim_ordering_tf_kernels_notop.h5\n",
            "94765736/94765736 [==============================] - 0s 0us/step\n"
          ]
        }
      ],
      "source": [
        "# Used ResNet50 - Transfer Learning\n",
        "model = ResNet50(weights='imagenet',include_top=False,input_shape=(224,224,3))\n",
        "model.trainable = False"
      ]
    },
    {
      "cell_type": "code",
      "execution_count": 6,
      "metadata": {
        "id": "bAb8DqggffOc"
      },
      "outputs": [],
      "source": [
        "# Add Maxpooling layer at the end\n",
        "model = tensorflow.keras.Sequential([model,GlobalMaxPooling2D()])"
      ]
    },
    {
      "cell_type": "code",
      "execution_count": 7,
      "metadata": {
        "colab": {
          "base_uri": "https://localhost:8080/"
        },
        "id": "9sbrgCRnhKC3",
        "outputId": "28424e73-f142-4a66-c7f5-ce6e32de7cd9"
      },
      "outputs": [
        {
          "output_type": "stream",
          "name": "stdout",
          "text": [
            "Model: \"sequential\"\n",
            "_________________________________________________________________\n",
            " Layer (type)                Output Shape              Param #   \n",
            "=================================================================\n",
            " resnet50 (Functional)       (None, 7, 7, 2048)        23587712  \n",
            "                                                                 \n",
            " global_max_pooling2d (Globa  (None, 2048)             0         \n",
            " lMaxPooling2D)                                                  \n",
            "                                                                 \n",
            "=================================================================\n",
            "Total params: 23,587,712\n",
            "Trainable params: 0\n",
            "Non-trainable params: 23,587,712\n",
            "_________________________________________________________________\n"
          ]
        }
      ],
      "source": [
        "model.summary()"
      ]
    },
    {
      "cell_type": "code",
      "execution_count": 8,
      "metadata": {
        "id": "Nr1x-VVs7SMQ"
      },
      "outputs": [],
      "source": [
        "# Function for extract features from images\n",
        "def extract_features(img_path,model):\n",
        "  img = image.load_img(img_path,target_size=(224,224))\n",
        "  img_array = image.img_to_array(img)\n",
        "  expanded_img_array = np.expand_dims(img_array,axis=0)\n",
        "  preprocessed_img = preprocess_input(expanded_img_array)\n",
        "  result = model.predict(preprocessed_img).flatten()\n",
        "  normalized_result = result/norm(result)\n",
        "  return normalized_result"
      ]
    },
    {
      "cell_type": "code",
      "execution_count": 9,
      "metadata": {
        "colab": {
          "base_uri": "https://localhost:8080/"
        },
        "id": "iPhtWWQ8OhoD",
        "outputId": "ad125592-7a86-41e4-f27a-0049ec976e8f"
      },
      "outputs": [
        {
          "output_type": "execute_result",
          "data": {
            "text/plain": [
              "44441"
            ]
          },
          "metadata": {},
          "execution_count": 9
        }
      ],
      "source": [
        "len(os.listdir('images'))"
      ]
    },
    {
      "cell_type": "code",
      "execution_count": 10,
      "metadata": {
        "colab": {
          "base_uri": "https://localhost:8080/"
        },
        "id": "jDvIswb4OmBI",
        "outputId": "c50823a8-8d6f-456c-8c29-b1140427262d"
      },
      "outputs": [
        {
          "output_type": "execute_result",
          "data": {
            "text/plain": [
              "44441"
            ]
          },
          "metadata": {},
          "execution_count": 10
        }
      ],
      "source": [
        "# Function for file path - filenames\n",
        "filenames = []\n",
        "\n",
        "for file in os.listdir('images'):\n",
        "  filenames.append(os.path.join('images',file))\n",
        "\n",
        "len(filenames)"
      ]
    },
    {
      "cell_type": "code",
      "execution_count": null,
      "metadata": {
        "id": "ZZmj9BdGPhe1"
      },
      "outputs": [],
      "source": [
        "# Extract features from 1000 images\n",
        "feature_list = []\n",
        "for file in tqdm(filenames[0:15000]):\n",
        "    feature_list.append(extract_features(file, model))"
      ]
    },
    {
      "cell_type": "code",
      "execution_count": 24,
      "metadata": {
        "id": "TzkYvGd2RBVW",
        "colab": {
          "base_uri": "https://localhost:8080/"
        },
        "outputId": "1c6807f0-33d5-467d-afd4-22acf66a0ff9"
      },
      "outputs": [
        {
          "output_type": "execute_result",
          "data": {
            "text/plain": [
              "(15000, 2048)"
            ]
          },
          "metadata": {},
          "execution_count": 24
        }
      ],
      "source": [
        "# Shape of extracted images\n",
        "feature_list = np.array(feature_list)\n",
        "feature_list.shape"
      ]
    },
    {
      "cell_type": "code",
      "execution_count": 25,
      "metadata": {
        "id": "MyuSI7SSSO8R"
      },
      "outputs": [],
      "source": [
        "# Dumping feature list & filenames for future use\n",
        "pickle.dump(feature_list,open('embeddings.pkl','wb'))\n",
        "pickle.dump(filenames,open('filenames.pkl','wb'))"
      ]
    },
    {
      "cell_type": "markdown",
      "metadata": {
        "id": "121A5osMd1ht"
      },
      "source": [
        "## **Testing The Results**"
      ]
    },
    {
      "cell_type": "code",
      "execution_count": 26,
      "metadata": {
        "id": "c6bGdtn7iw2s",
        "colab": {
          "base_uri": "https://localhost:8080/"
        },
        "outputId": "c74485b7-2824-4b00-9db6-145d5523c738"
      },
      "outputs": [
        {
          "output_type": "stream",
          "name": "stdout",
          "text": [
            "1/1 [==============================] - 0s 29ms/step\n"
          ]
        }
      ],
      "source": [
        "# Extracting the features of test image\n",
        "sample_img_features = extract_features('/content/t shirt.jpg',model)"
      ]
    },
    {
      "cell_type": "code",
      "execution_count": 27,
      "metadata": {
        "id": "mMT-JJemjosb",
        "colab": {
          "base_uri": "https://localhost:8080/"
        },
        "outputId": "35472155-1285-4bcb-ef51-7f17b86e1411"
      },
      "outputs": [
        {
          "output_type": "stream",
          "name": "stdout",
          "text": [
            "[[ 9882  6448   883 14157  9582]]\n",
            "images/45659.jpg\n",
            "images/29629.jpg\n",
            "images/18889.jpg\n",
            "images/1972.jpg\n",
            "images/13793.jpg\n"
          ]
        }
      ],
      "source": [
        "# Finding nearest Neighbours of uploaded image file\n",
        "from sklearn.neighbors import NearestNeighbors\n",
        "\n",
        "neighbors = NearestNeighbors(n_neighbors=5,algorithm='brute',metric='euclidean')\n",
        "neighbors.fit(feature_list)\n",
        "\n",
        "distances,indices = neighbors.kneighbors([sample_img_features])\n",
        "print(indices)\n",
        "\n",
        "for file in indices[0]:\n",
        "  print(filenames[file])"
      ]
    },
    {
      "cell_type": "code",
      "execution_count": 28,
      "metadata": {
        "id": "si5qfBwQlvH1",
        "colab": {
          "base_uri": "https://localhost:8080/",
          "height": 450
        },
        "outputId": "a9be6eba-3382-40ee-8f35-d234ab3c41f2"
      },
      "outputs": [
        {
          "output_type": "execute_result",
          "data": {
            "text/plain": [
              "<matplotlib.image.AxesImage at 0x78abf35123e0>"
            ]
          },
          "metadata": {},
          "execution_count": 28
        },
        {
          "output_type": "display_data",
          "data": {
            "text/plain": [
              "<Figure size 640x480 with 1 Axes>"
            ],
            "image/png": "[encoded data removed]"
          },
          "metadata": {}
        }
      ],
      "source": [
        "# Showing Images\n",
        "import cv2\n",
        "import matplotlib.pyplot as plt\n",
        "test_img = cv2.imread('images/45659.jpg')\n",
        "rgb_image = cv2.cvtColor(test_img, cv2.COLOR_BGR2RGB)\n",
        "plt.imshow(rgb_image)"
      ]
    },
    {
      "cell_type": "markdown",
      "metadata": {
        "id": "gS6MlzKDeXeY"
      },
      "source": [
        "## **Streamlit Application**"
      ]
    },
    {
      "cell_type": "code",
      "execution_count": 29,
      "metadata": {
        "id": "6m05yNP34qHo"
      },
      "outputs": [],
      "source": [
        "!pip install streamlit -q"
      ]
    },
    {
      "cell_type": "code",
      "execution_count": 36,
      "metadata": {
        "id": "HoqaoJ-i6gka",
        "colab": {
          "base_uri": "https://localhost:8080/"
        },
        "outputId": "160e3ea6-95fe-4067-8c1b-8ab48fcf066d"
      },
      "outputs": [
        {
          "output_type": "stream",
          "name": "stdout",
          "text": [
            "Overwriting app.py\n"
          ]
        }
      ],
      "source": [
        "# Creating app file\n",
        "%%writefile app.py\n",
        "\n",
        "# Importing Libraries -------------------------\n",
        "import streamlit as st\n",
        "import os\n",
        "from PIL import Image\n",
        "import tensorflow\n",
        "from tensorflow import keras\n",
        "from keras import Sequential\n",
        "from keras.layers import GlobalMaxPooling2D\n",
        "from keras.applications import ResNet50\n",
        "from tensorflow.keras.applications.resnet50 import preprocess_input\n",
        "from tensorflow.keras.preprocessing import image\n",
        "import numpy as np\n",
        "from numpy.linalg import norm\n",
        "from tqdm import tqdm\n",
        "import pickle\n",
        "from sklearn.neighbors import NearestNeighbors\n",
        "\n",
        "# Loading feature_list & Filenames ------------------------\n",
        "feature_list = np.array(pickle.load(open('embeddings.pkl','rb')))\n",
        "filenames = pickle.load(open('filenames.pkl','rb'))\n",
        "\n",
        "#ResNet50 Model Creation -----------------------\n",
        "model = ResNet50(weights='imagenet',include_top=False,input_shape=(224,224,3))\n",
        "model.trainable = False\n",
        "model = tensorflow.keras.Sequential([model,GlobalMaxPooling2D()])\n",
        "\n",
        "st.title('STYLE ADVISOR APPLICATION')\n",
        "\n",
        "def save_uploaded_file(uploaded_file):\n",
        "  try:\n",
        "    with open(os.path.join('uploads',uploaded_file.name),'wb') as f:\n",
        "      f.write(uploaded_file.getbuffer())\n",
        "    return 1\n",
        "  except:\n",
        "    return 0\n",
        "\n",
        "def feature_extraction(img_path,model):\n",
        "  img = image.load_img(img_path,target_size=(224,224))\n",
        "  img_array = image.img_to_array(img)\n",
        "  expanded_img_array = np.expand_dims(img_array,axis=0)\n",
        "  preprocessed_img = preprocess_input(expanded_img_array)\n",
        "  result = model.predict(preprocessed_img).flatten()\n",
        "  normalized_result = result/norm(result)\n",
        "  return normalized_result\n",
        "\n",
        "def recommend(features,feature_list):\n",
        "  neighbors = NearestNeighbors(n_neighbors=5,algorithm='brute',metric='euclidean')\n",
        "  neighbors.fit(feature_list)\n",
        "  distances,indices = neighbors.kneighbors([features])\n",
        "  return indices\n",
        "\n",
        "uploaded_file = st.file_uploader(\"Choose an Image:\")\n",
        "if uploaded_file is not None:\n",
        "  if save_uploaded_file(uploaded_file):\n",
        "    display_image = Image.open(uploaded_file)\n",
        "    st.image(display_image)\n",
        "\n",
        "    features = feature_extraction(os.path.join('uploads',uploaded_file.name),model)\n",
        "\n",
        "    indices = recommend(features,feature_list)\n",
        "\n",
        "    st.header(\"Similar Products\")\n",
        "    columns = st.columns(5)\n",
        "    with columns[0]:\n",
        "        st.image(filenames[indices[0][0]], use_column_width=True)\n",
        "    with columns[1]:\n",
        "        st.image(filenames[indices[0][1]], use_column_width=True)\n",
        "    with columns[2]:\n",
        "        st.image(filenames[indices[0][2]], use_column_width=True)\n",
        "    with columns[3]:\n",
        "        st.image(filenames[indices[0][3]], use_column_width=True)\n",
        "    with columns[4]:\n",
        "        st.image(filenames[indices[0][4]], use_column_width=True)\n",
        "\n",
        "    st.header(\"About Our App\")\n",
        "    st.write(\"Our Fashion Recommender uses advanced algorithms to suggest styles that match your unique preferences and taste. Discover a world of fashion like never before!\")\n",
        "\n",
        "  else:\n",
        "    st.header(\"Some Error\")"
      ]
    },
    {
      "cell_type": "code",
      "execution_count": 37,
      "metadata": {
        "id": "j7IPnMvp9qkU",
        "colab": {
          "base_uri": "https://localhost:8080/"
        },
        "outputId": "714a10a2-5cc3-40cb-a970-4c59d95ec255"
      },
      "outputs": [
        {
          "output_type": "stream",
          "name": "stdout",
          "text": [
            "34.172.113.106\n"
          ]
        }
      ],
      "source": [
        "!wget -q -O - ipv4.icanhazip.com"
      ]
    },
    {
      "cell_type": "code",
      "execution_count": 38,
      "metadata": {
        "id": "6f7w5tDS7La7",
        "colab": {
          "base_uri": "https://localhost:8080/"
        },
        "outputId": "54f88940-8f6f-4203-ce4a-6d8d78dd6c1a"
      },
      "outputs": [
        {
          "output_type": "stream",
          "name": "stdout",
          "text": [
            "[##................] | fetchMetadata: sill resolveWithNewModule yargs-parser@20\u001b[0m\u001b[K\n",
            "Collecting usage statistics. To deactivate, set browser.gatherUsageStats to False.\n",
            "\u001b[0m\n",
            "\u001b[K\u001b[?25h\u001b[0m\n",
            "\u001b[34m\u001b[1m  You can now view your Streamlit app in your browser.\u001b[0m\n",
            "\u001b[0m\n",
            "\u001b[34m  Network URL: \u001b[0m\u001b[1mhttp://172.28.0.12:8501\u001b[0m\n",
            "\u001b[34m  External URL: \u001b[0m\u001b[1mhttp://34.172.113.106:8501\u001b[0m\n",
            "\u001b[0m\n",
            "npx: installed 22 in 3.444s\n",
            "your url is: https://green-colts-juggle.loca.lt\n",
            "2023-08-20 06:59:35.642602: W tensorflow/compiler/tf2tensorrt/utils/py_utils.cc:38] TF-TRT Warning: Could not find TensorRT\n",
            "2023-08-20 06:59:42.728155: W tensorflow/core/common_runtime/gpu/gpu_bfc_allocator.cc:47] Overriding orig_value setting because the TF_FORCE_GPU_ALLOW_GROWTH environment variable is set. Original config value was 0.\n",
            "1/1 [==============================] - 3s 3s/step\n",
            "\u001b[34m  Stopping...\u001b[0m\n",
            "^C\n"
          ]
        }
      ],
      "source": [
        "!streamlit run app.py & npx localtunnel --port 8501"
      ]
    },
    {
      "cell_type": "code",
      "execution_count": null,
      "metadata": {
        "id": "T2V3zOrp8lkv"
      },
      "outputs": [],
      "source": []
    }
  ],
  "metadata": {
    "accelerator": "GPU",
    "colab": {
      "provenance": []
    },
    "kernelspec": {
      "display_name": "Python 3",
      "name": "python3"
    },
    "language_info": {
      "name": "python"
    }
  },
  "nbformat": 4,
  "nbformat_minor": 0
}